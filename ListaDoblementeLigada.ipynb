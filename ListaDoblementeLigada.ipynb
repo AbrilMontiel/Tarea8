{
  "nbformat": 4,
  "nbformat_minor": 0,
  "metadata": {
    "colab": {
      "name": "ListaDoblementeLigada.ipynb",
      "provenance": [],
      "authorship_tag": "ABX9TyM2887ea+3tlUJPue72PQbQ",
      "include_colab_link": true
    },
    "kernelspec": {
      "name": "python3",
      "display_name": "Python 3"
    },
    "language_info": {
      "name": "python"
    }
  },
  "cells": [
    {
      "cell_type": "markdown",
      "metadata": {
        "id": "view-in-github",
        "colab_type": "text"
      },
      "source": [
        "<a href=\"https://colab.research.google.com/github/AbrilMontiel/Tarea8/blob/master/ListaDoblementeLigada.ipynb\" target=\"_parent\"><img src=\"https://colab.research.google.com/assets/colab-badge.svg\" alt=\"Open In Colab\"/></a>"
      ]
    },
    {
      "cell_type": "code",
      "metadata": {
        "id": "gdfwz9w3tzYV"
      },
      "source": [
        "class NodoDoble:\n",
        "  def __init__( self , value, siguiente = None, previo = None ):\n",
        "    self.data = value\n",
        "    self.next = siguiente\n",
        "    self.prev = previo"
      ],
      "execution_count": 21,
      "outputs": []
    },
    {
      "cell_type": "code",
      "metadata": {
        "id": "YgGmaZn5uDlY"
      },
      "source": [
        "class DoubleLinkedList:\n",
        "  def __init__( self ):\n",
        "    self.head = None\n",
        "    self.tail = None\n",
        "    self.size = 0\n",
        "\n",
        "  def get_size( self ):\n",
        "    return self.size\n",
        "\n",
        "  def is_empty( self ): #True si la lista esta vacia\n",
        "    return self.size == 0\n",
        "\n",
        "  def append( self, value ):\n",
        "    if self.is_empty():\n",
        "      self.head = NodoDoble( value )\n",
        "      self.tail = self.head\n",
        "    else:\n",
        "      self.tail.next = NodoDoble( value, None, self.tail )\n",
        "      self.tail = self.tail.next\n",
        "    self.size += 1\n",
        "\n",
        "  def transversal( self ):\n",
        "    curr_node = self.head\n",
        "    while curr_node != None:\n",
        "      print(f\"| { curr_node.data } | --> \" , end=\"\")\n",
        "      curr_node = curr_node.next\n",
        "    print(\"\")\n",
        "\n",
        "  def remove_from_head( self, value ):\n",
        "    curr_node = self.head\n",
        "    while curr_node.data != value:\n",
        "      curr_node = curr_node.next\n",
        "    if curr_node.data == value:\n",
        "      print(\"Encontrado\", curr_node.data )\n",
        "      curr_node.prev.next = curr_node.next\n",
        "      curr_node.next.prev = curr_node.prev\n",
        "      print(\"Previo\", curr_node.prev.data )\n",
        "    self.size -= 1\n",
        "\n",
        "  def remove_from_tail( self, value ):\n",
        "    curr_node = self.tail\n",
        "    while curr_node.data != value:\n",
        "      curr_node = curr_node.prev\n",
        "    if curr_node.data == value:\n",
        "      print(\"Encontrado\", curr_node.data )\n",
        "      curr_node.prev.next = curr_node.next\n",
        "      curr_node.next.prev = curr_node.prev\n",
        "      print(\"Previo\", curr_node.prev.data )\n",
        "    self.size -= 1\n",
        "\n",
        "  def find_from_tail( self, value ):\n",
        "   curr_node = self.tail\n",
        "   while curr_node.data != value:\n",
        "      curr_node = curr_node.prev\n",
        "   if curr_node.data == value:\n",
        "     print(\"Encontrado\", curr_node.data )\n",
        "   self.size -= 1\n",
        "     \n",
        "\n",
        "  def find_from_head( self, value ):\n",
        "    curr_node = self.head\n",
        "    while curr_node.data != value:\n",
        "       curr_node = curr_node.next\n",
        "    if curr_node.data == value:\n",
        "     print(\"Encontrado\", curr_node.data )\n",
        "    self.size -= 1\n",
        "\n",
        "  def reverse_transversal( self ):\n",
        "    curr_node = self.tail\n",
        "    while curr_node != None:\n",
        "      print(f\"| { curr_node.data } | --> \", end=\"\")\n",
        "      curr_node = curr_node.prev\n",
        "      "
      ],
      "execution_count": 50,
      "outputs": []
    },
    {
      "cell_type": "code",
      "metadata": {
        "colab": {
          "base_uri": "https://localhost:8080/"
        },
        "id": "l92pJC2-uHZ5",
        "outputId": "597103c5-0777-4d55-8619-9e41d11a191b"
      },
      "source": [
        "ldl = DoubleLinkedList()\n",
        "ldl.append( 10 )\n",
        "ldl.append( 20 )\n",
        "ldl.append( 30 )\n",
        "ldl.append( 40 )\n",
        "ldl.append( 50 )\n",
        "ldl.append( 60 )\n",
        "\n",
        "ldl.transversal()\n",
        "print(f\"\\n¿Esta vacia? { ldl.is_empty() }\")\n",
        "\n",
        "print(\"\\n---Despues del remove_from_head---\")\n",
        "ldl.remove_from_head(20)\n",
        "ldl.transversal()\n",
        "\n",
        "print(\"\\n---Despues del remove_from_tail---\")\n",
        "ldl.remove_from_tail(50)\n",
        "ldl.transversal()\n",
        "\n",
        "print(\"\\n---Despues del find_from_head---\")\n",
        "ldl.find_from_head(10)\n",
        "ldl.transversal()\n",
        "\n",
        "print(\"\\n---Despues del find_from_tail---\")\n",
        "ldl.find_from_tail(60)\n",
        "ldl.transversal()\n",
        "\n",
        "print(\"\\n---Despues del reverse_transversal---\")\n",
        "ldl.reverse_transversal()\n"
      ],
      "execution_count": 53,
      "outputs": [
        {
          "output_type": "stream",
          "name": "stdout",
          "text": [
            "| 10 | --> | 20 | --> | 30 | --> | 40 | --> | 50 | --> | 60 | --> \n",
            "\n",
            "¿Esta vacia? False\n",
            "\n",
            "---Despues del remove_from_head---\n",
            "Encontrado 20\n",
            "Previo 10\n",
            "| 10 | --> | 30 | --> | 40 | --> | 50 | --> | 60 | --> \n",
            "\n",
            "---Despues del remove_from_tail---\n",
            "Encontrado 50\n",
            "Previo 40\n",
            "| 10 | --> | 30 | --> | 40 | --> | 60 | --> \n",
            "\n",
            "---Despues del find_from_head---\n",
            "Encontrado 10\n",
            "| 10 | --> | 30 | --> | 40 | --> | 60 | --> \n",
            "\n",
            "---Despues del find_from_tail---\n",
            "Encontrado 60\n",
            "| 10 | --> | 30 | --> | 40 | --> | 60 | --> \n",
            "\n",
            "---Despues del reverse_transversal---\n",
            "| 60 | --> | 40 | --> | 30 | --> | 10 | --> "
          ]
        }
      ]
    }
  ]
}